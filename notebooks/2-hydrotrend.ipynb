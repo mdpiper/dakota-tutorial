{
 "cells": [
  {
   "cell_type": "markdown",
   "metadata": {},
   "source": [
    "<img src=\"images/csdms_logo.jpg\">"
   ]
  },
  {
   "cell_type": "markdown",
   "metadata": {},
   "source": [
    "# Example 2\n",
    "\n",
    "Read and explore the output from Example 2 -- a multidim parameter study that evaluates the effects of varying temperature and precipitation on sediment load values in HydroTrend."
   ]
  },
  {
   "cell_type": "markdown",
   "metadata": {},
   "source": [
    "Use `pylab` magic:"
   ]
  },
  {
   "cell_type": "code",
   "execution_count": null,
   "metadata": {
    "collapsed": false
   },
   "outputs": [],
   "source": [
    "%pylab inline"
   ]
  },
  {
   "cell_type": "markdown",
   "metadata": {},
   "source": [
    "Read the Dakota tabular data file."
   ]
  },
  {
   "cell_type": "code",
   "execution_count": null,
   "metadata": {
    "collapsed": false
   },
   "outputs": [],
   "source": [
    "dat_file = '../examples/2-hydrotrend/dakota.dat'\n",
    "d = numpy.loadtxt(dat_file, skiprows=1, unpack=True, usecols=[0,2,3,4,5])"
   ]
  },
  {
   "cell_type": "markdown",
   "metadata": {},
   "source": [
    "Extract the temperature and precipitation parameter values from the tabular data array."
   ]
  },
  {
   "cell_type": "code",
   "execution_count": null,
   "metadata": {
    "collapsed": false
   },
   "outputs": [],
   "source": [
    "T = d[1,]\n",
    "P = d[2,]\n",
    "print 'Temperature:'\n",
    "print T\n",
    "print 'Precipitation:'\n",
    "print P"
   ]
  },
  {
   "cell_type": "markdown",
   "metadata": {},
   "source": [
    "Plot the multidim parameter study evaluation locations."
   ]
  },
  {
   "cell_type": "code",
   "execution_count": null,
   "metadata": {
    "collapsed": false
   },
   "outputs": [],
   "source": [
    "plot(T, P, 'ro')\n",
    "xlim((5, 25))\n",
    "ylim((1, 3))\n",
    "xlabel('$T \\,(^{\\circ}C)$')\n",
    "ylabel('$P \\,(m)$')\n",
    "title('Planview of parameter study locations')"
   ]
  },
  {
   "cell_type": "markdown",
   "metadata": {},
   "source": [
    "Next, to make surface and contour plots of the Dakota responses, the $T$, $P$ and $Q_s$ values have to be reshaped into 2D arrays."
   ]
  },
  {
   "cell_type": "code",
   "execution_count": null,
   "metadata": {
    "collapsed": true
   },
   "outputs": [],
   "source": [
    "m = len(set(T))\n",
    "n = len(set(P))\n",
    "T2 = T.reshape(n,m)\n",
    "P2 = P.reshape(n,m)\n",
    "Qs2 = d[3,].reshape(n,m)"
   ]
  },
  {
   "cell_type": "markdown",
   "metadata": {},
   "source": [
    "Make a wire mesh surface plot of the mean $Q_s$ values at the study locations."
   ]
  },
  {
   "cell_type": "code",
   "execution_count": null,
   "metadata": {
    "collapsed": false
   },
   "outputs": [],
   "source": [
    "from mpl_toolkits.mplot3d import Axes3D\n",
    "fig = plt.figure()\n",
    "ax = Axes3D(fig)\n",
    "ax.plot_wireframe(T2, P2, Qs2)\n",
    "ax.set_xlabel('$T \\,(^\\circ C)$')\n",
    "ax.set_ylabel('$P \\,(m)$')\n",
    "ax.set_zlabel('$Q_s \\,(kg \\, s^{-1})$')"
   ]
  },
  {
   "cell_type": "markdown",
   "metadata": {},
   "source": [
    "Make a contour plot of the mean $Q_s$ values at the study locations."
   ]
  },
  {
   "cell_type": "code",
   "execution_count": null,
   "metadata": {
    "collapsed": false
   },
   "outputs": [],
   "source": [
    "contour(T2, P2, Qs2, 15, cmap=cm.Blues_r)\n",
    "xlim((5, 25))\n",
    "ylim((1, 3))\n",
    "xlabel('$T \\,(^\\circ C)$')\n",
    "ylabel('$P \\,(m)$')"
   ]
  }
 ],
 "metadata": {
  "kernelspec": {
   "display_name": "Python 2",
   "language": "python",
   "name": "python2"
  },
  "language_info": {
   "codemirror_mode": {
    "name": "ipython",
    "version": 2
   },
   "file_extension": ".py",
   "mimetype": "text/x-python",
   "name": "python",
   "nbconvert_exporter": "python",
   "pygments_lexer": "ipython2",
   "version": "2.7.9"
  }
 },
 "nbformat": 4,
 "nbformat_minor": 0
}

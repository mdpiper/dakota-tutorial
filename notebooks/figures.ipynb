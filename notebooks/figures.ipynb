{
 "cells": [
  {
   "cell_type": "markdown",
   "metadata": {},
   "source": [
    "# Figures\n",
    "\n",
    "IPython Notebooks are so much fun,\n",
    "I thought I'd use one to quickly make a set of figures for my presentation."
   ]
  },
  {
   "cell_type": "markdown",
   "metadata": {},
   "source": [
    "To set up, use `pylab` magic:"
   ]
  },
  {
   "cell_type": "code",
   "execution_count": 1,
   "metadata": {
    "collapsed": false
   },
   "outputs": [
    {
     "name": "stdout",
     "output_type": "stream",
     "text": [
      "Populating the interactive namespace from numpy and matplotlib\n"
     ]
    }
   ],
   "source": [
    "%pylab inline"
   ]
  },
  {
   "cell_type": "markdown",
   "metadata": {},
   "source": [
    "## Vector parameter study\n",
    "\n",
    "Define values for parameters one ($p_1$) and two ($p_2$), then visualize the parameter space."
   ]
  },
  {
   "cell_type": "code",
   "execution_count": 2,
   "metadata": {
    "collapsed": false
   },
   "outputs": [
    {
     "name": "stdout",
     "output_type": "stream",
     "text": [
      "[1, 2, 3, 4, 5, 6, 7, 8] [2, 3, 4, 5, 6, 7, 8, 9]\n"
     ]
    }
   ],
   "source": [
    "p1 = range(1,9)\n",
    "p2 = range(2,10)\n",
    "print p1, p2"
   ]
  },
  {
   "cell_type": "code",
   "execution_count": 3,
   "metadata": {
    "collapsed": false
   },
   "outputs": [
    {
     "data": {
      "text/plain": [
       "<matplotlib.text.Text at 0x106895dd0>"
      ]
     },
     "execution_count": 3,
     "metadata": {},
     "output_type": "execute_result"
    },
    {
     "data": {
      "image/png": "[encoded data removed]",
      "text/plain": [
       "<matplotlib.figure.Figure at 0x106827dd0>"
      ]
     },
     "metadata": {},
     "output_type": "display_data"
    }
   ],
   "source": [
    "plot(p1, p2, 'ro')\n",
    "xlim((0, 10))\n",
    "ylim((0, 10))\n",
    "xticks([])\n",
    "yticks([])\n",
    "xlabel('$p_1$')\n",
    "ylabel('$p_2$')\n",
    "title('Vector parameter study')"
   ]
  },
  {
   "cell_type": "markdown",
   "metadata": {},
   "source": [
    "## Centered parameter study\n",
    "\n",
    "Define values for parameters one ($p_1$) and two ($p_2$), then visualize the parameter space."
   ]
  },
  {
   "cell_type": "code",
   "execution_count": 4,
   "metadata": {
    "collapsed": false
   },
   "outputs": [
    {
     "name": "stdout",
     "output_type": "stream",
     "text": [
      "[4, 5, 6, 7, 8] [5, 6, 7]\n"
     ]
    }
   ],
   "source": [
    "p1 = range(4,9)\n",
    "p2 = range(5,8)\n",
    "print p1, p2"
   ]
  },
  {
   "cell_type": "code",
   "execution_count": 5,
   "metadata": {
    "collapsed": false
   },
   "outputs": [
    {
     "name": "stdout",
     "output_type": "stream",
     "text": [
      "[6.0, 6.0, 6.0] [6.0, 6.0, 6.0, 6.0, 6.0]\n"
     ]
    }
   ],
   "source": [
    "x = [mean(p2)]*len(p2)\n",
    "y = [mean(p1)]*len(p1)\n",
    "print x, y"
   ]
  },
  {
   "cell_type": "code",
   "execution_count": 6,
   "metadata": {
    "collapsed": false
   },
   "outputs": [
    {
     "data": {
      "text/plain": [
       "<matplotlib.text.Text at 0x1069c2cd0>"
      ]
     },
     "execution_count": 6,
     "metadata": {},
     "output_type": "execute_result"
    },
    {
     "data": {
      "image/png": "[encoded data removed]",
      "text/plain": [
       "<matplotlib.figure.Figure at 0x1068d4890>"
      ]
     },
     "metadata": {},
     "output_type": "display_data"
    }
   ],
   "source": [
    "plot(x, p2, 'ro')\n",
    "plot(p1, y, 'ro')\n",
    "xlim((0, 10))\n",
    "ylim((0, 10))\n",
    "xticks([])\n",
    "yticks([])\n",
    "xlabel('$p_1$')\n",
    "ylabel('$p_2$')\n",
    "title('Centered parameter study')"
   ]
  },
  {
   "cell_type": "markdown",
   "metadata": {},
   "source": [
    "## Multidim parameter study\n",
    "\n",
    "Define values for parameters one ($p_1$) and two ($p_2$), then visualize the parameter space."
   ]
  },
  {
   "cell_type": "code",
   "execution_count": 7,
   "metadata": {
    "collapsed": false
   },
   "outputs": [
    {
     "name": "stdout",
     "output_type": "stream",
     "text": [
      "[2, 3, 4, 5, 6, 7, 2, 3, 4, 5, 6, 7, 2, 3, 4, 5, 6, 7, 2, 3, 4, 5, 6, 7, 2, 3, 4, 5, 6, 7] [2, 2, 2, 2, 2, 2, 3, 3, 3, 3, 3, 3, 4, 4, 4, 4, 4, 4, 5, 5, 5, 5, 5, 5, 6, 6, 6, 6, 6, 6]\n"
     ]
    }
   ],
   "source": [
    "n_rows = 5\n",
    "n_cols = 6\n",
    "offset = 2\n",
    "p1 = [i % n_cols + offset for i in range(n_rows*n_cols)]\n",
    "p2 = [i / n_cols + offset for i in range(n_rows*n_cols)]\n",
    "print p1, p2"
   ]
  },
  {
   "cell_type": "code",
   "execution_count": 8,
   "metadata": {
    "collapsed": false
   },
   "outputs": [
    {
     "data": {
      "text/plain": [
       "<matplotlib.text.Text at 0x106b93750>"
      ]
     },
     "execution_count": 8,
     "metadata": {},
     "output_type": "execute_result"
    },
    {
     "data": {
      "image/png": "[encoded data removed]",
      "text/plain": [
       "<matplotlib.figure.Figure at 0x106827d90>"
      ]
     },
     "metadata": {},
     "output_type": "display_data"
    }
   ],
   "source": [
    "plot(p1, p2, 'ro')\n",
    "xlim((0, 10))\n",
    "ylim((0, 10))\n",
    "xticks([])\n",
    "yticks([])\n",
    "xlabel('$p_1$')\n",
    "ylabel('$p_2$')\n",
    "title('Multidim parameter study')"
   ]
  },
  {
   "cell_type": "markdown",
   "metadata": {},
   "source": [
    "## The Rosenbrock function\n",
    "\n",
    "The Rosenbrock function is a standard test problem for optimization algorithms."
   ]
  },
  {
   "cell_type": "markdown",
   "metadata": {},
   "source": [
    "Start by defining a grid of values on the interval `[-2, 2]`:"
   ]
  },
  {
   "cell_type": "code",
   "execution_count": 9,
   "metadata": {
    "collapsed": false
   },
   "outputs": [],
   "source": [
    "import numpy as np\n",
    "n = 51\n",
    "x1 = np.linspace(-2, 2, n)\n",
    "x2 = x1.copy()\n",
    "x1v, x2v = np.meshgrid(x1, x2)"
   ]
  },
  {
   "cell_type": "markdown",
   "metadata": {},
   "source": [
    "Compute the values of the Rosenbrock function at the nodes of the grid:"
   ]
  },
  {
   "cell_type": "code",
   "execution_count": 10,
   "metadata": {
    "collapsed": false
   },
   "outputs": [],
   "source": [
    "rosenbrock = 100.0*(x2v - x1v**2)**2 + (1 - x1v)**2"
   ]
  },
  {
   "cell_type": "markdown",
   "metadata": {},
   "source": [
    "Visualize the result as a filled contour plot:"
   ]
  },
  {
   "cell_type": "code",
   "execution_count": 11,
   "metadata": {
    "collapsed": false
   },
   "outputs": [
    {
     "data": {
      "text/plain": [
       "<matplotlib.text.Text at 0x106d85250>"
      ]
     },
     "execution_count": 11,
     "metadata": {},
     "output_type": "execute_result"
    },
    {
     "data": {
      "image/png": "[encoded data removed]",
      "text/plain": [
       "<matplotlib.figure.Figure at 0x106b6edd0>"
      ]
     },
     "metadata": {},
     "output_type": "display_data"
    }
   ],
   "source": [
    "contourf(x1v, x2v, rosenbrock, 50, cmap=cm.RdYlBu_r)\n",
    "xticks([-2, 0, 2])\n",
    "yticks([-2, 0, 2])\n",
    "xlabel('$x_1$')\n",
    "ylabel('$x_2$')"
   ]
  }
 ],
 "metadata": {
  "kernelspec": {
   "display_name": "Python 2",
   "language": "python",
   "name": "python2"
  },
  "language_info": {
   "codemirror_mode": {
    "name": "ipython",
    "version": 2
   },
   "file_extension": ".py",
   "mimetype": "text/x-python",
   "name": "python",
   "nbconvert_exporter": "python",
   "pygments_lexer": "ipython2",
   "version": "2.7.9"
  }
 },
 "nbformat": 4,
 "nbformat_minor": 0
}

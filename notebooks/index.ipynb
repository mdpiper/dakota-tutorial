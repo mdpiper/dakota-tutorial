{
 "cells": [
  {
   "cell_type": "markdown",
   "metadata": {},
   "source": [
    "<img src=\"images/csdms_logo.jpg\">"
   ]
  },
  {
   "cell_type": "markdown",
   "metadata": {},
   "source": [
    "# Topics\n",
    "\n",
    "* [Start IPython Notebook](how_to_start_ipython.ipynb): Instructions for starting an IPython notebook on a remote server and connecting to it.\n",
    "* [Example 1](1-rosenbrock.ipynb): See how to call Dakota from the command line, as well as the syntax of Dakota's input, output and data files.\n",
    "* [Example 2](2-hydrotrend.ipynb): Use Dakota to evaluate the effects of varying parameters on [HydroTrend](http://csdms.colorado.edu/wiki/Model:HydroTrend) output.\n",
    "* [Example 3](3-Python.ipynb): Call Dakota from Python with a prototype interface under development at CSDMS.\n",
    "* [Example 4](4-WMT.ipynb): Examine the output from a Dakota experiment performed on [WMT](https://csdms.colorado.edu/wmt-dakota)."
   ]
  }
 ],
 "metadata": {
  "kernelspec": {
   "display_name": "Python 2",
   "language": "python",
   "name": "python2"
  },
  "language_info": {
   "codemirror_mode": {
    "name": "ipython",
    "version": 2
   },
   "file_extension": ".py",
   "mimetype": "text/x-python",
   "name": "python",
   "nbconvert_exporter": "python",
   "pygments_lexer": "ipython2",
   "version": "2.7.9"
  }
 },
 "nbformat": 4,
 "nbformat_minor": 0
}

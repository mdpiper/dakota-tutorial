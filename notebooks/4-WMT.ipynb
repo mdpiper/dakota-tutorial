{
 "cells": [
  {
   "cell_type": "markdown",
   "metadata": {
    "collapsed": true
   },
   "source": [
    "<img src=\"images/csdms_logo.jpg\">"
   ]
  },
  {
   "cell_type": "markdown",
   "metadata": {},
   "source": [
    "# Example 4\n",
    "\n",
    "Let's use [IPython Notebook](http://ipython.org/notebook.html) to download model output \n",
    "from WMT and examine the results."
   ]
  },
  {
   "cell_type": "markdown",
   "metadata": {},
   "source": [
    "Set up with `pylab` magic, plus other global imports:"
   ]
  },
  {
   "cell_type": "code",
   "execution_count": null,
   "metadata": {
    "collapsed": false
   },
   "outputs": [],
   "source": [
    "%pylab inline\n",
    "import os"
   ]
  },
  {
   "cell_type": "markdown",
   "metadata": {},
   "source": [
    "Switch to the directory **examples/4-WMT** to use as our working directory:"
   ]
  },
  {
   "cell_type": "code",
   "execution_count": null,
   "metadata": {
    "collapsed": false
   },
   "outputs": [],
   "source": [
    "os.chdir(os.path.join('..', 'examples', '4-WMT'))\n",
    "os.getcwd()"
   ]
  },
  {
   "cell_type": "markdown",
   "metadata": {},
   "source": [
    "The model output is stored as a **tar.gz** file on the CSDMS website. Here's the name and location of the results of the experiment **Multidim Parameter Study MP-2**:"
   ]
  },
  {
   "cell_type": "code",
   "execution_count": null,
   "metadata": {
    "collapsed": true
   },
   "outputs": [],
   "source": [
    "run_id = '0b6296d2-ccdd-4717-b347-96be60bfe8e7'\n",
    "download_file = run_id + '.tar.gz'"
   ]
  },
  {
   "cell_type": "markdown",
   "metadata": {},
   "source": [
    "You can download and unpack the model output with shell commands.\n",
    "Or, here's a pure Python solution:"
   ]
  },
  {
   "cell_type": "code",
   "execution_count": null,
   "metadata": {
    "collapsed": false
   },
   "outputs": [],
   "source": [
    "def wmt_download_and_unpack(download_file):\n",
    "    import requests\n",
    "    import tarfile\n",
    "    download_url = 'http://csdms.colorado.edu/pub/users/wmt/' + download_file\n",
    "    r = requests.get(download_url)\n",
    "    with open(download_file, 'w') as fp:\n",
    "        fp.write(r.content)\n",
    "    tar = tarfile.open(download_file)\n",
    "    tar.extractall()\n",
    "    tar.close()"
   ]
  },
  {
   "cell_type": "markdown",
   "metadata": {},
   "source": [
    "Here's the call (it takes a few seconds):"
   ]
  },
  {
   "cell_type": "code",
   "execution_count": null,
   "metadata": {
    "collapsed": true
   },
   "outputs": [],
   "source": [
    "wmt_download_and_unpack(download_file)"
   ]
  },
  {
   "cell_type": "markdown",
   "metadata": {},
   "source": [
    "Change to the directory containing the unpacked output and get a listing:"
   ]
  },
  {
   "cell_type": "code",
   "execution_count": null,
   "metadata": {
    "collapsed": false
   },
   "outputs": [],
   "source": [
    "os.chdir(run_id)\n",
    "%ls"
   ]
  },
  {
   "cell_type": "markdown",
   "metadata": {},
   "source": [
    "This is the standard WMT packaging for a model run.\n",
    "Change to the parameter study directory:"
   ]
  },
  {
   "cell_type": "code",
   "execution_count": null,
   "metadata": {
    "collapsed": true
   },
   "outputs": [],
   "source": [
    "os.chdir('multidim_parameter_study')"
   ]
  },
  {
   "cell_type": "markdown",
   "metadata": {},
   "source": [
    "Read the Dakota tabular data file:"
   ]
  },
  {
   "cell_type": "code",
   "execution_count": null,
   "metadata": {
    "collapsed": false
   },
   "outputs": [],
   "source": [
    "data = numpy.loadtxt('dakota.dat', skiprows=1, unpack=True, usecols=[0,2,3,4])\n",
    "data.shape"
   ]
  },
  {
   "cell_type": "markdown",
   "metadata": {},
   "source": [
    "Reshape the variables from the data file to set up a surface plot:"
   ]
  },
  {
   "cell_type": "code",
   "execution_count": null,
   "metadata": {
    "collapsed": true
   },
   "outputs": [],
   "source": [
    "m = len(set(data[1,]))\n",
    "n = len(set(data[2,]))\n",
    "T2 = data[1,].reshape(n,m)\n",
    "P2 = data[2,].reshape(n,m)\n",
    "Qs2 = data[3,].reshape(n,m)"
   ]
  },
  {
   "cell_type": "markdown",
   "metadata": {},
   "source": [
    "Make a surface plot with `Axes3D.plot_surface`:"
   ]
  },
  {
   "cell_type": "code",
   "execution_count": null,
   "metadata": {
    "collapsed": false
   },
   "outputs": [],
   "source": [
    "from mpl_toolkits.mplot3d import Axes3D\n",
    "fig = plt.figure()\n",
    "ax = Axes3D(fig)\n",
    "ax.plot_surface(T2, P2, Qs2, rstride=2, cstride=2)\n",
    "ax.view_init(elev=30, azim=-75)\n",
    "ax.set_xlabel('$T \\,(^\\circ C)$')\n",
    "ax.set_ylabel('$P \\,(m)$')\n",
    "ax.set_zlabel('$Q_s \\,(kg \\, s^{-1})$')"
   ]
  }
 ],
 "metadata": {
  "kernelspec": {
   "display_name": "Python 2",
   "language": "python",
   "name": "python2"
  },
  "language_info": {
   "codemirror_mode": {
    "name": "ipython",
    "version": 2
   },
   "file_extension": ".py",
   "mimetype": "text/x-python",
   "name": "python",
   "nbconvert_exporter": "python",
   "pygments_lexer": "ipython2",
   "version": "2.7.9"
  }
 },
 "nbformat": 4,
 "nbformat_minor": 0
}

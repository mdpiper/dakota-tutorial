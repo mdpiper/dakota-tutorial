{
 "cells": [
  {
   "cell_type": "markdown",
   "metadata": {},
   "source": [
    "<img src=\"images/csdms_logo.jpg\">"
   ]
  },
  {
   "cell_type": "markdown",
   "metadata": {},
   "source": [
    "# How to open a connection to a remote IPython instance\n",
    "\n",
    "First, from your computer, open an `ssh` connection to the server:\n",
    "\n",
    "```bash\n",
    "$ ssh [username@]beach.colorado.edu\n",
    "```\n",
    "\n",
    "On the server, start an [IPython notebook](http://ipython.org/notebook.html):\n",
    "```bash\n",
    "$ ipython notebook --no-browser &\n",
    "```\n",
    "\n",
    "Note the port that IPython is running on. \n",
    "IPython will print out a few lines. \n",
    "One of them should look like:\n",
    "\n",
    "```\n",
    "[I 10:24:23.092 NotebookApp] The IPython Notebook is running at: http://localhost:8888/\n",
    "```\n",
    "\n",
    "In this example, IPython is running on port 8888.\n",
    "\n",
    "To view IPython notebook in your browser, \n",
    "forward this port to the port IPython is running on on the server. \n",
    "You can do this with `ssh`:\n",
    "\n",
    "```bash\n",
    "$ ssh -N -L 8888:localhost:8888 [username@]beach.colorado.edu\n",
    "```\n",
    "\n",
    "To connect to the IPython notebook that's running on the server, point your browser to http://localhost:8888."
   ]
  }
 ],
 "metadata": {
  "kernelspec": {
   "display_name": "Python 2",
   "language": "python",
   "name": "python2"
  },
  "language_info": {
   "codemirror_mode": {
    "name": "ipython",
    "version": 2
   },
   "file_extension": ".py",
   "mimetype": "text/x-python",
   "name": "python",
   "nbconvert_exporter": "python",
   "pygments_lexer": "ipython2",
   "version": "2.7.9"
  }
 },
 "nbformat": 4,
 "nbformat_minor": 0
}

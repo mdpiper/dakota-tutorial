{
 "cells": [
  {
   "cell_type": "markdown",
   "metadata": {},
   "source": [
    "<img src=\"images/csdms_logo.jpg\">"
   ]
  },
  {
   "cell_type": "markdown",
   "metadata": {},
   "source": [
    "# Example 3\n",
    "\n",
    "Use the CSDMS Dakota interface in Python to perform a centered parameter study on [HydroTrend](http://csdms.colorado.edu/wiki/Model_help:HydroTrend) and evaluate the output."
   ]
  },
  {
   "cell_type": "markdown",
   "metadata": {},
   "source": [
    "Use `pylab` magic:"
   ]
  },
  {
   "cell_type": "code",
   "execution_count": 17,
   "metadata": {
    "collapsed": false
   },
   "outputs": [
    {
     "name": "stdout",
     "output_type": "stream",
     "text": [
      "Populating the interactive namespace from numpy and matplotlib\n"
     ]
    }
   ],
   "source": [
    "%pylab inline"
   ]
  },
  {
   "cell_type": "markdown",
   "metadata": {},
   "source": [
    "And include other necessary imports:"
   ]
  },
  {
   "cell_type": "code",
   "execution_count": 51,
   "metadata": {
    "collapsed": true
   },
   "outputs": [],
   "source": [
    "import os"
   ]
  },
  {
   "cell_type": "markdown",
   "metadata": {},
   "source": [
    "## Set up and run the experiment"
   ]
  },
  {
   "cell_type": "markdown",
   "metadata": {},
   "source": [
    "Start by importing the `Dakota` class:"
   ]
  },
  {
   "cell_type": "code",
   "execution_count": 1,
   "metadata": {
    "collapsed": true
   },
   "outputs": [],
   "source": [
    "from dakota.core import Dakota"
   ]
  },
  {
   "cell_type": "markdown",
   "metadata": {},
   "source": [
    "Next, create a new `Dakota` instance to perform a centered parameter study:"
   ]
  },
  {
   "cell_type": "code",
   "execution_count": 2,
   "metadata": {
    "collapsed": true
   },
   "outputs": [],
   "source": [
    "d = Dakota(method='centered_parameter_study')"
   ]
  },
  {
   "cell_type": "markdown",
   "metadata": {},
   "source": [
    "Note that `method` string follows the syntax of Dakota keywords; e.g., [centered_parameter_study](https://dakota.sandia.gov/sites/default/files/docs/6.1/html-ref/method-centered_parameter_study.html)."
   ]
  },
  {
   "cell_type": "markdown",
   "metadata": {},
   "source": [
    "The `Dakota` instance comes with a few predefined attributes, including the `method` attribute, which is used to set up the experiment."
   ]
  },
  {
   "cell_type": "code",
   "execution_count": 7,
   "metadata": {
    "collapsed": false
   },
   "outputs": [
    {
     "data": {
      "text/plain": [
       "{'input_file': 'dakota.in',\n",
       " 'method': <dakota.methods.centered_parameter_study.CenteredParameterStudy at 0x1036aac50>,\n",
       " 'output_file': 'dakota.out'}"
      ]
     },
     "execution_count": 7,
     "metadata": {},
     "output_type": "execute_result"
    }
   ],
   "source": [
    "d.__dict__"
   ]
  },
  {
   "cell_type": "markdown",
   "metadata": {},
   "source": [
    "Pull out the `method` attribute to save some time typing in the following steps:"
   ]
  },
  {
   "cell_type": "code",
   "execution_count": 14,
   "metadata": {
    "collapsed": false
   },
   "outputs": [
    {
     "data": {
      "text/plain": [
       "{'_configuration_file': '/Users/mpiper/projects/mdpiper/dakota-tutorial/notebooks/config.yaml',\n",
       " '_initial_point': (0.0, 0.0),\n",
       " '_input_files': (),\n",
       " '_response_descriptors': ('y1',),\n",
       " '_response_files': (),\n",
       " '_response_statistics': (),\n",
       " '_run_directory': '/Users/mpiper/projects/mdpiper/dakota-tutorial/examples/3-Python',\n",
       " '_step_vector': (0.4, 0.5),\n",
       " '_steps_per_variable': (5, 4),\n",
       " '_template_file': None,\n",
       " '_variable_descriptors': ('x1', 'x2'),\n",
       " 'analysis_driver': 'rosenbrock',\n",
       " 'component': 'hydrotrend',\n",
       " 'data_file': 'dakota.dat',\n",
       " 'id_interface': 'Python',\n",
       " 'interface': 'fork',\n",
       " 'is_objective_function': False,\n",
       " 'method': 'centered_parameter_study',\n",
       " 'parameters_file': 'params.in',\n",
       " 'results_file': 'results.out',\n",
       " 'variable_type': 'continuous_design'}"
      ]
     },
     "execution_count": 14,
     "metadata": {},
     "output_type": "execute_result"
    }
   ],
   "source": [
    "m = d.method\n",
    "m.__dict__"
   ]
  },
  {
   "cell_type": "markdown",
   "metadata": {},
   "source": [
    "Configure the `Dakota` instance to run an experiment on HydroTrend\n",
    "in the **examples/3-Python** directory of this project:"
   ]
  },
  {
   "cell_type": "code",
   "execution_count": 15,
   "metadata": {
    "collapsed": true
   },
   "outputs": [],
   "source": [
    "m.component = 'hydrotrend'\n",
    "m.interface = 'fork'\n",
    "m.run_directory = '../examples/3-Python/'"
   ]
  },
  {
   "cell_type": "markdown",
   "metadata": {},
   "source": [
    "The `fork` interface is used when Dakota calls an executable on the file system."
   ]
  },
  {
   "cell_type": "markdown",
   "metadata": {},
   "source": [
    "In this experiment, let's explore the effects of mean river velocity $u$ [$m\\,s^{-1}$] and the constant annual base flow $q$ [$m^3 s^{-1}$] on the median daily bedload at the river mouth $Q_b$ [$kg\\,s^{-1}$] for one year of simulation time. All HydroTrend parameters that are not included in the parameter study are held constant.\n",
    "\n",
    "First, configure the inputs:"
   ]
  },
  {
   "cell_type": "code",
   "execution_count": 52,
   "metadata": {
    "collapsed": false
   },
   "outputs": [],
   "source": [
    "m.variable_descriptors = ['river_mean_velocity', 'base_flow']\n",
    "m.initial_point = [1.0, 1.0]\n",
    "m.step_vector = [0.2, 0.25]\n",
    "m.steps_per_variable = [9, 7]"
   ]
  },
  {
   "cell_type": "markdown",
   "metadata": {},
   "source": [
    "Note (again) that the attribute names match the Dakota keyword names for a centered parameter study."
   ]
  },
  {
   "cell_type": "markdown",
   "metadata": {},
   "source": [
    "From these attributes, calculate the parameter values at which HydroTrend will be evaluated. Use the helper function `calc_vector`."
   ]
  },
  {
   "cell_type": "code",
   "execution_count": 43,
   "metadata": {
    "collapsed": true
   },
   "outputs": [],
   "source": [
    "def calc_vector(start, step_size, n_steps):\n",
    "    \"\"\"Calculate a vector from a center, step size and number of steps.\"\"\"\n",
    "    v = []\n",
    "    for i in range(len(start)):\n",
    "        v_start = start[i] - step_size[i]*(n_steps[i]-1)/2.0\n",
    "        v_stop = v_start + step_size[i]*n_steps[i]\n",
    "        v.append(numpy.linspace(v_start, v_stop, n_steps[i], endpoint=False))\n",
    "    return v"
   ]
  },
  {
   "cell_type": "code",
   "execution_count": 59,
   "metadata": {
    "collapsed": false
   },
   "outputs": [
    {
     "name": "stdout",
     "output_type": "stream",
     "text": [
      "u = [ 0.2  0.4  0.6  0.8  1.   1.2  1.4  1.6  1.8]\n",
      "q = [ 0.25  0.5   0.75  1.    1.25  1.5   1.75]\n"
     ]
    }
   ],
   "source": [
    "u, q = calc_vector(m.initial_point, m.step_vector, m.steps_per_variable)\n",
    "print 'u =', u\n",
    "print 'q =', q"
   ]
  },
  {
   "cell_type": "markdown",
   "metadata": {},
   "source": [
    "Make a quick plot to visualize the evaluation nodes in parameter space:"
   ]
  },
  {
   "cell_type": "code",
   "execution_count": 60,
   "metadata": {
    "collapsed": false
   },
   "outputs": [
    {
     "data": {
      "text/plain": [
       "<matplotlib.text.Text at 0x107cb5d10>"
      ]
     },
     "execution_count": 60,
     "metadata": {},
     "output_type": "execute_result"
    },
    {
     "data": {
      "image/png": "[encoded data removed]",
      "text/plain": [
       "<matplotlib.figure.Figure at 0x107a16190>"
      ]
     },
     "metadata": {},
     "output_type": "display_data"
    }
   ],
   "source": [
    "x = [mean(q)]*len(q)\n",
    "y = [mean(u)]*len(u)\n",
    "plot(x, q, 'ro')\n",
    "plot(u, y, 'ro')\n",
    "xlim((0, 2))\n",
    "ylim((0, 2))\n",
    "xlabel('$u (m\\,s^{-1})$')\n",
    "ylabel('$q (kg\\,s^{-1})$')\n",
    "title('Centered parameter study')"
   ]
  },
  {
   "cell_type": "markdown",
   "metadata": {},
   "source": [
    "Next, set up the responses from HydroTrend used by Dakota. Each of these must be a list or a tuple. (This is a little clumsy.)"
   ]
  },
  {
   "cell_type": "code",
   "execution_count": 55,
   "metadata": {
    "collapsed": true
   },
   "outputs": [],
   "source": [
    "m.response_descriptors = 'Qb_median', # must be list or tuple\n",
    "m.response_statistics = 'median',\n",
    "m.response_files = 'HYDROASCII.QB',"
   ]
  },
  {
   "cell_type": "markdown",
   "metadata": {},
   "source": [
    "HydroTrend requires a hypsometry file. The default Waipaoa hypsometry file is included in the run directory. Link it to the `input_files` attribute of the centered parameter study object, which also must be a tuple or a list:"
   ]
  },
  {
   "cell_type": "code",
   "execution_count": 54,
   "metadata": {
    "collapsed": true
   },
   "outputs": [],
   "source": [
    "m.input_files = os.path.join(m.run_directory,'HYDRO0.HYPS'),"
   ]
  },
  {
   "cell_type": "markdown",
   "metadata": {},
   "source": [
    "**Template file.** Use input file with default values from WMT. (My choice.) All parameters that are not included in the parameter study are held constant."
   ]
  },
  {
   "cell_type": "markdown",
   "metadata": {},
   "source": [
    "In the final setup step, set the Dakota analysis driver. This is easy, because it's always the same:"
   ]
  },
  {
   "cell_type": "code",
   "execution_count": 56,
   "metadata": {
    "collapsed": true
   },
   "outputs": [],
   "source": [
    "m.analysis_driver = 'dakota_run_plugin'"
   ]
  },
  {
   "cell_type": "markdown",
   "metadata": {},
   "source": [
    "The `dakota_run_plugin` script automates the actions needed for the analysis driver."
   ]
  },
  {
   "cell_type": "markdown",
   "metadata": {},
   "source": [
    "(This might be a good time to review the settings for the experiment.)"
   ]
  },
  {
   "cell_type": "code",
   "execution_count": 58,
   "metadata": {
    "collapsed": false
   },
   "outputs": [
    {
     "data": {
      "text/plain": [
       "{'_configuration_file': '/Users/mpiper/projects/mdpiper/dakota-tutorial/notebooks/config.yaml',\n",
       " '_initial_point': [1.0, 1.0],\n",
       " '_input_files': ('/Users/mpiper/projects/mdpiper/dakota-tutorial/examples/3-Python/HYDRO0.HYPS',),\n",
       " '_response_descriptors': ('Qb_median',),\n",
       " '_response_files': ('HYDROASCII.QB',),\n",
       " '_response_statistics': ('median',),\n",
       " '_run_directory': '/Users/mpiper/projects/mdpiper/dakota-tutorial/examples/3-Python',\n",
       " '_step_vector': [0.2, 0.25],\n",
       " '_steps_per_variable': [9, 7],\n",
       " '_template_file': None,\n",
       " '_variable_descriptors': ['river_mean_velocity', 'base_flow'],\n",
       " 'analysis_driver': 'dakota_run_plugin',\n",
       " 'component': 'hydrotrend',\n",
       " 'data_file': 'dakota.dat',\n",
       " 'id_interface': 'Python',\n",
       " 'interface': 'fork',\n",
       " 'is_objective_function': False,\n",
       " 'method': 'centered_parameter_study',\n",
       " 'parameters_file': 'params.in',\n",
       " 'results_file': 'results.out',\n",
       " 'variable_type': 'continuous_design'}"
      ]
     },
     "execution_count": 58,
     "metadata": {},
     "output_type": "execute_result"
    }
   ],
   "source": [
    "d.method.__dict__"
   ]
  },
  {
   "cell_type": "markdown",
   "metadata": {},
   "source": [
    "**Write configuration file.** View it."
   ]
  },
  {
   "cell_type": "markdown",
   "metadata": {},
   "source": [
    "**Write Dakota input file.** View it."
   ]
  },
  {
   "cell_type": "markdown",
   "metadata": {},
   "source": [
    "**Run Dakota.** Look at the results."
   ]
  },
  {
   "cell_type": "markdown",
   "metadata": {},
   "source": [
    "## Evaluate the results"
   ]
  },
  {
   "cell_type": "markdown",
   "metadata": {},
   "source": [
    "Make a plot."
   ]
  },
  {
   "cell_type": "markdown",
   "metadata": {},
   "source": [
    "## Modify the experiment\n",
    "\n",
    "* Use the configuration file created in the initial experiment to create a new `Dakota` instance.\n",
    "* Modify its settings.\n",
    "* Save configuration.\n",
    "* Write new Dakota input file.\n",
    "* Run modified experiment."
   ]
  }
 ],
 "metadata": {
  "kernelspec": {
   "display_name": "Python 2",
   "language": "python",
   "name": "python2"
  },
  "language_info": {
   "codemirror_mode": {
    "name": "ipython",
    "version": 2
   },
   "file_extension": ".py",
   "mimetype": "text/x-python",
   "name": "python",
   "nbconvert_exporter": "python",
   "pygments_lexer": "ipython2",
   "version": "2.7.9"
  }
 },
 "nbformat": 4,
 "nbformat_minor": 0
}

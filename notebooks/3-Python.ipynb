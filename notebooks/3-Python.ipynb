{
 "cells": [
  {
   "cell_type": "markdown",
   "metadata": {},
   "source": [
    "<img src=\"images/csdms_logo.jpg\">"
   ]
  },
  {
   "cell_type": "markdown",
   "metadata": {},
   "source": [
    "# Example 3\n",
    "\n",
    "Use the CSDMS Dakota interface in Python to perform a centered parameter study on [HydroTrend](http://csdms.colorado.edu/wiki/Model_help:HydroTrend) and evaluate the output."
   ]
  },
  {
   "cell_type": "markdown",
   "metadata": {},
   "source": [
    "Use `pylab` magic:"
   ]
  },
  {
   "cell_type": "code",
   "execution_count": null,
   "metadata": {
    "collapsed": false
   },
   "outputs": [],
   "source": [
    "%pylab inline"
   ]
  },
  {
   "cell_type": "markdown",
   "metadata": {},
   "source": [
    "And include other necessary imports:"
   ]
  },
  {
   "cell_type": "code",
   "execution_count": null,
   "metadata": {
    "collapsed": true
   },
   "outputs": [],
   "source": [
    "import os\n",
    "import shutil"
   ]
  },
  {
   "cell_type": "markdown",
   "metadata": {},
   "source": [
    "## Set up and run the experiment"
   ]
  },
  {
   "cell_type": "markdown",
   "metadata": {},
   "source": [
    "Start by importing the `Dakota` class:"
   ]
  },
  {
   "cell_type": "code",
   "execution_count": null,
   "metadata": {
    "collapsed": true
   },
   "outputs": [],
   "source": [
    "from dakota.core import Dakota"
   ]
  },
  {
   "cell_type": "markdown",
   "metadata": {},
   "source": [
    "Next, create a new `Dakota` instance to perform a centered parameter study:"
   ]
  },
  {
   "cell_type": "code",
   "execution_count": null,
   "metadata": {
    "collapsed": true
   },
   "outputs": [],
   "source": [
    "d = Dakota(method='centered_parameter_study')"
   ]
  },
  {
   "cell_type": "markdown",
   "metadata": {},
   "source": [
    "Note that `method` string follows the syntax of Dakota keywords; e.g., [centered_parameter_study](https://dakota.sandia.gov/sites/default/files/docs/6.1/html-ref/method-centered_parameter_study.html)."
   ]
  },
  {
   "cell_type": "markdown",
   "metadata": {},
   "source": [
    "The `Dakota` instance comes with a few predefined attributes, including the `method` attribute, which is used to set up the experiment."
   ]
  },
  {
   "cell_type": "code",
   "execution_count": null,
   "metadata": {
    "collapsed": false
   },
   "outputs": [],
   "source": [
    "d.__dict__"
   ]
  },
  {
   "cell_type": "markdown",
   "metadata": {},
   "source": [
    "Pull out the `method` attribute to save some time typing in the following steps:"
   ]
  },
  {
   "cell_type": "code",
   "execution_count": null,
   "metadata": {
    "collapsed": false
   },
   "outputs": [],
   "source": [
    "m = d.method\n",
    "m.__dict__"
   ]
  },
  {
   "cell_type": "markdown",
   "metadata": {},
   "source": [
    "Configure the `Dakota` instance to run an experiment on HydroTrend\n",
    "in the **examples/3-Python** directory of this project:"
   ]
  },
  {
   "cell_type": "code",
   "execution_count": null,
   "metadata": {
    "collapsed": true
   },
   "outputs": [],
   "source": [
    "m.component = 'hydrotrend'\n",
    "m.interface = 'fork'\n",
    "m.run_directory = '../examples/3-Python/'"
   ]
  },
  {
   "cell_type": "markdown",
   "metadata": {},
   "source": [
    "The `fork` interface is used when Dakota calls an executable on the file system."
   ]
  },
  {
   "cell_type": "markdown",
   "metadata": {},
   "source": [
    "In this experiment, let's explore the effects of mean river velocity $u$ [$m\\,s^{-1}$] and the constant annual base flow $q_0$ [$m^3 s^{-1}$] on the median daily bedload at the river mouth $Q_b$ [$kg\\,s^{-1}$] for one year of simulation time. All HydroTrend parameters that are not included in the parameter study are held constant.\n",
    "\n",
    "First, configure the inputs:"
   ]
  },
  {
   "cell_type": "code",
   "execution_count": null,
   "metadata": {
    "collapsed": false
   },
   "outputs": [],
   "source": [
    "m.variable_descriptors = ['river_mean_velocity', 'base_flow']\n",
    "m.initial_point = [1.0, 1.0]\n",
    "m.step_vector = [0.2, 0.25]\n",
    "m.steps_per_variable = [3, 2] # in each direction"
   ]
  },
  {
   "cell_type": "markdown",
   "metadata": {},
   "source": [
    "Note (again) that the attribute names match the Dakota keyword names for a centered parameter study.\n",
    "The `steps_per_variable` attribute is tricky: this is the number of steps in each direction from the initial point; e.g, `river_mean_velocity` will be evaluated at a total of 7 locations."
   ]
  },
  {
   "cell_type": "markdown",
   "metadata": {},
   "source": [
    "From these attributes, calculate the parameter values at which HydroTrend will be evaluated. Use the helper function `calc_vector`."
   ]
  },
  {
   "cell_type": "code",
   "execution_count": null,
   "metadata": {
    "collapsed": true
   },
   "outputs": [],
   "source": [
    "def calc_vector(start, step_size, n_steps_per_direction):\n",
    "    \"\"\"Calculate a vector from a center, step size and number of steps.\"\"\"\n",
    "    v = []\n",
    "    for i in range(len(start)):\n",
    "        v_start = start[i] - step_size[i]*n_steps_per_direction[i]\n",
    "        v_stop = start[i] + step_size[i]*n_steps_per_direction[i]\n",
    "        v.append(numpy.linspace(v_start, v_stop, 2*n_steps_per_direction[i]+1))\n",
    "    return v"
   ]
  },
  {
   "cell_type": "code",
   "execution_count": null,
   "metadata": {
    "collapsed": false
   },
   "outputs": [],
   "source": [
    "u, q_0 = calc_vector(m.initial_point, m.step_vector, m.steps_per_variable)\n",
    "print 'u =', u\n",
    "print 'q_0 =', q_0"
   ]
  },
  {
   "cell_type": "markdown",
   "metadata": {},
   "source": [
    "Make a quick plot to visualize the evaluation nodes in parameter space:"
   ]
  },
  {
   "cell_type": "code",
   "execution_count": null,
   "metadata": {
    "collapsed": false
   },
   "outputs": [],
   "source": [
    "x = [mean(q_0)]*len(q_0)\n",
    "y = [mean(u)]*len(u)\n",
    "plot(x, q_0, 'ro')\n",
    "plot(u, y, 'ro')\n",
    "xlim((0, 2))\n",
    "ylim((0, 2))\n",
    "xlabel('$u (m\\,s^{-1})$')\n",
    "ylabel('$q_0 (m^3\\,s^{-1})$')\n",
    "title('Centered parameter study')"
   ]
  },
  {
   "cell_type": "markdown",
   "metadata": {},
   "source": [
    "Next, set up the responses from HydroTrend used by Dakota. Each of these must be a list or a tuple. (This is a little clumsy.)"
   ]
  },
  {
   "cell_type": "code",
   "execution_count": null,
   "metadata": {
    "collapsed": true
   },
   "outputs": [],
   "source": [
    "m.response_descriptors = 'Qb_median', # must be list or tuple\n",
    "m.response_statistics = 'median',\n",
    "m.response_files = 'HYDROASCII.QB',"
   ]
  },
  {
   "cell_type": "markdown",
   "metadata": {},
   "source": [
    "HydroTrend requires a hypsometry file. The default Waipaoa hypsometry file is included in the run directory. Link it to the `input_files` attribute of the centered parameter study object, which also must be a tuple or a list:"
   ]
  },
  {
   "cell_type": "code",
   "execution_count": null,
   "metadata": {
    "collapsed": true
   },
   "outputs": [],
   "source": [
    "m.input_files = os.path.join(m.run_directory, 'HYDRO0.HYPS'),"
   ]
  },
  {
   "cell_type": "markdown",
   "metadata": {},
   "source": [
    "HydroTrend requires an input file that provides all of the parameter values needed for a run. \n",
    "Dakota requires a modified version of this file,\n",
    "called a *template file*,\n",
    "with the values of the parameters Dakota is operating on\n",
    "replaced with their corresponding descriptors.\n",
    "When Dakota runs, it replaces the descriptors with actual values.\n",
    "All parameters that are not included in the parameter study are held constant.\n",
    "\n",
    "Make a template file for this parameter study using:\n",
    "\n",
    "* the HydroTrend component template file\n",
    "* a base HydroTrend input file, with default parameter values\n",
    "* the parameters to replace\n",
    "\n",
    "The first two files are included in the run directory for this study:"
   ]
  },
  {
   "cell_type": "code",
   "execution_count": null,
   "metadata": {
    "collapsed": true
   },
   "outputs": [],
   "source": [
    "base_tmpl_file = os.path.join(m.run_directory, 'hydrotrend.in.tmpl')\n",
    "base_input_file = os.path.join(m.run_directory, 'HYDRO.IN.defaults')"
   ]
  },
  {
   "cell_type": "markdown",
   "metadata": {},
   "source": [
    "Create the template file and move it to the run directory:"
   ]
  },
  {
   "cell_type": "code",
   "execution_count": null,
   "metadata": {
    "collapsed": false
   },
   "outputs": [],
   "source": [
    "from dakota.plugins.hydrotrend import HydroTrend\n",
    "tmpl_file = HydroTrend.write_tmpl_file(base_tmpl_file, base_input_file, m.variable_descriptors)\n",
    "shutil.move(tmpl_file, m.run_directory)\n",
    "m.template_file = os.path.join(m.run_directory, tmpl_file)"
   ]
  },
  {
   "cell_type": "markdown",
   "metadata": {},
   "source": [
    "In the final setup step, set the Dakota analysis driver. This is easy, because it's always the same:"
   ]
  },
  {
   "cell_type": "code",
   "execution_count": null,
   "metadata": {
    "collapsed": true
   },
   "outputs": [],
   "source": [
    "m.analysis_driver = 'dakota_run_plugin'"
   ]
  },
  {
   "cell_type": "markdown",
   "metadata": {},
   "source": [
    "The `dakota_run_plugin` script automates the actions needed for the analysis driver."
   ]
  },
  {
   "cell_type": "markdown",
   "metadata": {},
   "source": [
    "This might be a good time to review the settings for the experiment:"
   ]
  },
  {
   "cell_type": "code",
   "execution_count": null,
   "metadata": {
    "collapsed": false
   },
   "outputs": [],
   "source": [
    "d.method.__dict__"
   ]
  },
  {
   "cell_type": "markdown",
   "metadata": {},
   "source": [
    "All of the parameters for the experiment have been configured.\n",
    "For the remaining steps leading up to running the experiment,\n",
    "let's switch to the run directory:"
   ]
  },
  {
   "cell_type": "code",
   "execution_count": null,
   "metadata": {
    "collapsed": true
   },
   "outputs": [],
   "source": [
    "os.chdir(m.run_directory)"
   ]
  },
  {
   "cell_type": "markdown",
   "metadata": {},
   "source": [
    "To help Dakota and Hydrotrend communicate,\n",
    "a configuration file,\n",
    "containing all the experiment parameters,\n",
    "is used.\n",
    "Create it with:"
   ]
  },
  {
   "cell_type": "code",
   "execution_count": null,
   "metadata": {
    "collapsed": false
   },
   "outputs": [],
   "source": [
    "d.write_configuration_file('config.yaml')"
   ]
  },
  {
   "cell_type": "markdown",
   "metadata": {},
   "source": [
    "Finally, use the information added to the `Dakota` object to write the Dakota input file:"
   ]
  },
  {
   "cell_type": "code",
   "execution_count": null,
   "metadata": {
    "collapsed": true
   },
   "outputs": [],
   "source": [
    "d.write_input_file()"
   ]
  },
  {
   "cell_type": "markdown",
   "metadata": {},
   "source": [
    "Run Dakota!"
   ]
  },
  {
   "cell_type": "code",
   "execution_count": null,
   "metadata": {
    "collapsed": false
   },
   "outputs": [],
   "source": [
    "d.run()"
   ]
  },
  {
   "cell_type": "markdown",
   "metadata": {},
   "source": [
    "## Evaluate the results"
   ]
  },
  {
   "cell_type": "markdown",
   "metadata": {},
   "source": [
    "Get a directory listing:"
   ]
  },
  {
   "cell_type": "code",
   "execution_count": null,
   "metadata": {
    "collapsed": false
   },
   "outputs": [],
   "source": [
    "%ls"
   ]
  },
  {
   "cell_type": "markdown",
   "metadata": {},
   "source": [
    "View the tabular data file:"
   ]
  },
  {
   "cell_type": "code",
   "execution_count": null,
   "metadata": {
    "collapsed": false
   },
   "outputs": [],
   "source": [
    "%cat dakota.dat"
   ]
  },
  {
   "cell_type": "markdown",
   "metadata": {},
   "source": [
    "Read the tabular data into this notebook:"
   ]
  },
  {
   "cell_type": "code",
   "execution_count": null,
   "metadata": {
    "collapsed": false
   },
   "outputs": [],
   "source": [
    "data = numpy.loadtxt(m.data_file, skiprows=1, unpack=True, usecols=[0,2,3,4])"
   ]
  },
  {
   "cell_type": "markdown",
   "metadata": {},
   "source": [
    "Make a plot of the experimental results:"
   ]
  },
  {
   "cell_type": "code",
   "execution_count": null,
   "metadata": {
    "collapsed": false
   },
   "outputs": [],
   "source": [
    "from mpl_toolkits.mplot3d import Axes3D\n",
    "fig = plt.figure()\n",
    "ax = Axes3D(fig)\n",
    "ax.scatter(data[1,], data[2,], data[3,], depthshade=False)\n",
    "ax.set_xlabel('$u \\,(m \\, s^{-1})$')\n",
    "ax.set_ylabel('$q_0 \\,(m^3 s^{-1})$')\n",
    "ax.set_zlabel('$Q_b \\,(kg \\, s^{-1})$')"
   ]
  },
  {
   "cell_type": "markdown",
   "metadata": {},
   "source": [
    "## Modify the experiment\n",
    "\n",
    "* Use the configuration file created in the initial experiment to create a new `Dakota` instance.\n",
    "* Modify its settings.\n",
    "* Save configuration.\n",
    "* Write new Dakota input file.\n",
    "* Run modified experiment."
   ]
  },
  {
   "cell_type": "markdown",
   "metadata": {},
   "source": [
    "The configuration file created above can be used make to `Dakota` instance:"
   ]
  },
  {
   "cell_type": "code",
   "execution_count": null,
   "metadata": {
    "collapsed": true
   },
   "outputs": [],
   "source": [
    "e = Dakota.from_file_like('config.yaml')"
   ]
  },
  {
   "cell_type": "markdown",
   "metadata": {},
   "source": [
    "The settings for this new instance can be modified to create a new Dakota experiment."
   ]
  }
 ],
 "metadata": {
  "kernelspec": {
   "display_name": "Python 2",
   "language": "python",
   "name": "python2"
  },
  "language_info": {
   "codemirror_mode": {
    "name": "ipython",
    "version": 2
   },
   "file_extension": ".py",
   "mimetype": "text/x-python",
   "name": "python",
   "nbconvert_exporter": "python",
   "pygments_lexer": "ipython2",
   "version": "2.7.9"
  }
 },
 "nbformat": 4,
 "nbformat_minor": 0
}
